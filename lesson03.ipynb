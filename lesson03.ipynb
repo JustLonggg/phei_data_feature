{
 "cells": [
  {
   "cell_type": "code",
   "execution_count": 1,
   "metadata": {},
   "outputs": [],
   "source": [
    "import pandas as pd"
   ]
  },
  {
   "cell_type": "code",
   "execution_count": 24,
   "metadata": {},
   "outputs": [
    {
     "data": {
      "text/html": [
       "<div>\n",
       "<style scoped>\n",
       "    .dataframe tbody tr th:only-of-type {\n",
       "        vertical-align: middle;\n",
       "    }\n",
       "\n",
       "    .dataframe tbody tr th {\n",
       "        vertical-align: top;\n",
       "    }\n",
       "\n",
       "    .dataframe thead th {\n",
       "        text-align: right;\n",
       "    }\n",
       "</style>\n",
       "<table border=\"1\" class=\"dataframe\">\n",
       "  <thead>\n",
       "    <tr style=\"text-align: right;\">\n",
       "      <th></th>\n",
       "      <th>name</th>\n",
       "      <th>area</th>\n",
       "      <th>population</th>\n",
       "      <th>longd</th>\n",
       "      <th>latd</th>\n",
       "    </tr>\n",
       "  </thead>\n",
       "  <tbody>\n",
       "    <tr>\n",
       "      <th>0</th>\n",
       "      <td>Nanjing</td>\n",
       "      <td>6582.31</td>\n",
       "      <td>8004680</td>\n",
       "      <td>118.78</td>\n",
       "      <td>32.04</td>\n",
       "    </tr>\n",
       "    <tr>\n",
       "      <th>1</th>\n",
       "      <td>Wuxi</td>\n",
       "      <td>4787.61</td>\n",
       "      <td>6372624</td>\n",
       "      <td>120.29</td>\n",
       "      <td>31.59</td>\n",
       "    </tr>\n",
       "    <tr>\n",
       "      <th>2</th>\n",
       "      <td>Xuzhou</td>\n",
       "      <td>11764.88</td>\n",
       "      <td>8580500</td>\n",
       "      <td>117.20</td>\n",
       "      <td>34.26</td>\n",
       "    </tr>\n",
       "    <tr>\n",
       "      <th>3</th>\n",
       "      <td>Changzhou</td>\n",
       "      <td>4384.57</td>\n",
       "      <td>4591972</td>\n",
       "      <td>119.95</td>\n",
       "      <td>31.79</td>\n",
       "    </tr>\n",
       "    <tr>\n",
       "      <th>4</th>\n",
       "      <td>Soochow</td>\n",
       "      <td>8488.42</td>\n",
       "      <td>10465994</td>\n",
       "      <td>120.62</td>\n",
       "      <td>31.32</td>\n",
       "    </tr>\n",
       "    <tr>\n",
       "      <th>5</th>\n",
       "      <td>Nantong</td>\n",
       "      <td>8001.00</td>\n",
       "      <td>7282835</td>\n",
       "      <td>120.86</td>\n",
       "      <td>32.01</td>\n",
       "    </tr>\n",
       "    <tr>\n",
       "      <th>6</th>\n",
       "      <td>Lianyungang</td>\n",
       "      <td>7615.29</td>\n",
       "      <td>4393914</td>\n",
       "      <td>119.16</td>\n",
       "      <td>34.59</td>\n",
       "    </tr>\n",
       "    <tr>\n",
       "      <th>7</th>\n",
       "      <td>Huaian</td>\n",
       "      <td>9949.97</td>\n",
       "      <td>4799889</td>\n",
       "      <td>119.15</td>\n",
       "      <td>33.50</td>\n",
       "    </tr>\n",
       "    <tr>\n",
       "      <th>8</th>\n",
       "      <td>Yancheng</td>\n",
       "      <td>16972.42</td>\n",
       "      <td>7260240</td>\n",
       "      <td>120.13</td>\n",
       "      <td>33.38</td>\n",
       "    </tr>\n",
       "    <tr>\n",
       "      <th>9</th>\n",
       "      <td>Yangzhou</td>\n",
       "      <td>6591.21</td>\n",
       "      <td>4459760</td>\n",
       "      <td>119.42</td>\n",
       "      <td>32.39</td>\n",
       "    </tr>\n",
       "    <tr>\n",
       "      <th>10</th>\n",
       "      <td>Zhenjiang</td>\n",
       "      <td>3840.32</td>\n",
       "      <td>3113384</td>\n",
       "      <td>119.44</td>\n",
       "      <td>32.20</td>\n",
       "    </tr>\n",
       "    <tr>\n",
       "      <th>11</th>\n",
       "      <td>Taizhou</td>\n",
       "      <td>5787.26</td>\n",
       "      <td>4618558</td>\n",
       "      <td>119.90</td>\n",
       "      <td>32.49</td>\n",
       "    </tr>\n",
       "    <tr>\n",
       "      <th>12</th>\n",
       "      <td>Suqian</td>\n",
       "      <td>8555.00</td>\n",
       "      <td>4715553</td>\n",
       "      <td>118.30</td>\n",
       "      <td>33.96</td>\n",
       "    </tr>\n",
       "  </tbody>\n",
       "</table>\n",
       "</div>"
      ],
      "text/plain": [
       "           name      area  population   longd   latd\n",
       "0       Nanjing   6582.31     8004680  118.78  32.04\n",
       "1          Wuxi   4787.61     6372624  120.29  31.59\n",
       "2        Xuzhou  11764.88     8580500  117.20  34.26\n",
       "3     Changzhou   4384.57     4591972  119.95  31.79\n",
       "4       Soochow   8488.42    10465994  120.62  31.32\n",
       "5       Nantong   8001.00     7282835  120.86  32.01\n",
       "6   Lianyungang   7615.29     4393914  119.16  34.59\n",
       "7        Huaian   9949.97     4799889  119.15  33.50\n",
       "8      Yancheng  16972.42     7260240  120.13  33.38\n",
       "9      Yangzhou   6591.21     4459760  119.42  32.39\n",
       "10    Zhenjiang   3840.32     3113384  119.44  32.20\n",
       "11      Taizhou   5787.26     4618558  119.90  32.49\n",
       "12       Suqian   8555.00     4715553  118.30  33.96"
      ]
     },
     "execution_count": 24,
     "metadata": {},
     "output_type": "execute_result"
    }
   ],
   "source": [
    "pd.read_excel(\"/Users/qiwsir/Documents/Codes/DataSet/jiangsu/jiangsu.xls\")"
   ]
  },
  {
   "cell_type": "code",
   "execution_count": 25,
   "metadata": {},
   "outputs": [],
   "source": [
    "xl = pd.ExcelFile(\"/Users/qiwsir/Documents/Codes/DataSet/jiangsu/jiangsu.xls\")"
   ]
  },
  {
   "cell_type": "code",
   "execution_count": 26,
   "metadata": {},
   "outputs": [
    {
     "data": {
      "text/plain": [
       "['Sheet1', 'Sheet2']"
      ]
     },
     "execution_count": 26,
     "metadata": {},
     "output_type": "execute_result"
    }
   ],
   "source": [
    "xl.sheet_names"
   ]
  },
  {
   "cell_type": "code",
   "execution_count": 28,
   "metadata": {},
   "outputs": [
    {
     "data": {
      "text/html": [
       "<div>\n",
       "<style scoped>\n",
       "    .dataframe tbody tr th:only-of-type {\n",
       "        vertical-align: middle;\n",
       "    }\n",
       "\n",
       "    .dataframe tbody tr th {\n",
       "        vertical-align: top;\n",
       "    }\n",
       "\n",
       "    .dataframe thead th {\n",
       "        text-align: right;\n",
       "    }\n",
       "</style>\n",
       "<table border=\"1\" class=\"dataframe\">\n",
       "  <thead>\n",
       "    <tr style=\"text-align: right;\">\n",
       "      <th></th>\n",
       "      <th>name</th>\n",
       "      <th>area</th>\n",
       "      <th>population</th>\n",
       "      <th>longd</th>\n",
       "      <th>latd</th>\n",
       "    </tr>\n",
       "  </thead>\n",
       "  <tbody>\n",
       "    <tr>\n",
       "      <th>0</th>\n",
       "      <td>Nanjing</td>\n",
       "      <td>6582.31</td>\n",
       "      <td>8004680</td>\n",
       "      <td>118.78</td>\n",
       "      <td>32.04</td>\n",
       "    </tr>\n",
       "    <tr>\n",
       "      <th>1</th>\n",
       "      <td>Wuxi</td>\n",
       "      <td>4787.61</td>\n",
       "      <td>6372624</td>\n",
       "      <td>120.29</td>\n",
       "      <td>31.59</td>\n",
       "    </tr>\n",
       "    <tr>\n",
       "      <th>2</th>\n",
       "      <td>Xuzhou</td>\n",
       "      <td>11764.88</td>\n",
       "      <td>8580500</td>\n",
       "      <td>117.20</td>\n",
       "      <td>34.26</td>\n",
       "    </tr>\n",
       "    <tr>\n",
       "      <th>3</th>\n",
       "      <td>Changzhou</td>\n",
       "      <td>4384.57</td>\n",
       "      <td>4591972</td>\n",
       "      <td>119.95</td>\n",
       "      <td>31.79</td>\n",
       "    </tr>\n",
       "    <tr>\n",
       "      <th>4</th>\n",
       "      <td>Soochow</td>\n",
       "      <td>8488.42</td>\n",
       "      <td>10465994</td>\n",
       "      <td>120.62</td>\n",
       "      <td>31.32</td>\n",
       "    </tr>\n",
       "    <tr>\n",
       "      <th>5</th>\n",
       "      <td>Nantong</td>\n",
       "      <td>8001.00</td>\n",
       "      <td>7282835</td>\n",
       "      <td>120.86</td>\n",
       "      <td>32.01</td>\n",
       "    </tr>\n",
       "    <tr>\n",
       "      <th>6</th>\n",
       "      <td>Lianyungang</td>\n",
       "      <td>7615.29</td>\n",
       "      <td>4393914</td>\n",
       "      <td>119.16</td>\n",
       "      <td>34.59</td>\n",
       "    </tr>\n",
       "    <tr>\n",
       "      <th>7</th>\n",
       "      <td>Huaian</td>\n",
       "      <td>9949.97</td>\n",
       "      <td>4799889</td>\n",
       "      <td>119.15</td>\n",
       "      <td>33.50</td>\n",
       "    </tr>\n",
       "    <tr>\n",
       "      <th>8</th>\n",
       "      <td>Yancheng</td>\n",
       "      <td>16972.42</td>\n",
       "      <td>7260240</td>\n",
       "      <td>120.13</td>\n",
       "      <td>33.38</td>\n",
       "    </tr>\n",
       "    <tr>\n",
       "      <th>9</th>\n",
       "      <td>Yangzhou</td>\n",
       "      <td>6591.21</td>\n",
       "      <td>4459760</td>\n",
       "      <td>119.42</td>\n",
       "      <td>32.39</td>\n",
       "    </tr>\n",
       "    <tr>\n",
       "      <th>10</th>\n",
       "      <td>Zhenjiang</td>\n",
       "      <td>3840.32</td>\n",
       "      <td>3113384</td>\n",
       "      <td>119.44</td>\n",
       "      <td>32.20</td>\n",
       "    </tr>\n",
       "    <tr>\n",
       "      <th>11</th>\n",
       "      <td>Taizhou</td>\n",
       "      <td>5787.26</td>\n",
       "      <td>4618558</td>\n",
       "      <td>119.90</td>\n",
       "      <td>32.49</td>\n",
       "    </tr>\n",
       "    <tr>\n",
       "      <th>12</th>\n",
       "      <td>Suqian</td>\n",
       "      <td>8555.00</td>\n",
       "      <td>4715553</td>\n",
       "      <td>118.30</td>\n",
       "      <td>33.96</td>\n",
       "    </tr>\n",
       "  </tbody>\n",
       "</table>\n",
       "</div>"
      ],
      "text/plain": [
       "           name      area  population   longd   latd\n",
       "0       Nanjing   6582.31     8004680  118.78  32.04\n",
       "1          Wuxi   4787.61     6372624  120.29  31.59\n",
       "2        Xuzhou  11764.88     8580500  117.20  34.26\n",
       "3     Changzhou   4384.57     4591972  119.95  31.79\n",
       "4       Soochow   8488.42    10465994  120.62  31.32\n",
       "5       Nantong   8001.00     7282835  120.86  32.01\n",
       "6   Lianyungang   7615.29     4393914  119.16  34.59\n",
       "7        Huaian   9949.97     4799889  119.15  33.50\n",
       "8      Yancheng  16972.42     7260240  120.13  33.38\n",
       "9      Yangzhou   6591.21     4459760  119.42  32.39\n",
       "10    Zhenjiang   3840.32     3113384  119.44  32.20\n",
       "11      Taizhou   5787.26     4618558  119.90  32.49\n",
       "12       Suqian   8555.00     4715553  118.30  33.96"
      ]
     },
     "execution_count": 28,
     "metadata": {},
     "output_type": "execute_result"
    }
   ],
   "source": [
    "xl.parse('Sheet1')"
   ]
  },
  {
   "cell_type": "code",
   "execution_count": 29,
   "metadata": {},
   "outputs": [
    {
     "data": {
      "text/html": [
       "<div>\n",
       "<style scoped>\n",
       "    .dataframe tbody tr th:only-of-type {\n",
       "        vertical-align: middle;\n",
       "    }\n",
       "\n",
       "    .dataframe tbody tr th {\n",
       "        vertical-align: top;\n",
       "    }\n",
       "\n",
       "    .dataframe thead th {\n",
       "        text-align: right;\n",
       "    }\n",
       "</style>\n",
       "<table border=\"1\" class=\"dataframe\">\n",
       "  <thead>\n",
       "    <tr style=\"text-align: right;\">\n",
       "      <th></th>\n",
       "      <th>school</th>\n",
       "      <th>city</th>\n",
       "    </tr>\n",
       "  </thead>\n",
       "  <tbody>\n",
       "    <tr>\n",
       "      <th>0</th>\n",
       "      <td>Nanjing University</td>\n",
       "      <td>Nanjing</td>\n",
       "    </tr>\n",
       "    <tr>\n",
       "      <th>1</th>\n",
       "      <td>Soochow University</td>\n",
       "      <td>Soochow</td>\n",
       "    </tr>\n",
       "    <tr>\n",
       "      <th>2</th>\n",
       "      <td>Fudan University</td>\n",
       "      <td>Shanghai</td>\n",
       "    </tr>\n",
       "    <tr>\n",
       "      <th>3</th>\n",
       "      <td>Zhejiang University</td>\n",
       "      <td>Hangzhou</td>\n",
       "    </tr>\n",
       "    <tr>\n",
       "      <th>4</th>\n",
       "      <td>Tongji University</td>\n",
       "      <td>Shanghai</td>\n",
       "    </tr>\n",
       "    <tr>\n",
       "      <th>5</th>\n",
       "      <td>Tsinghua University</td>\n",
       "      <td>Beijing</td>\n",
       "    </tr>\n",
       "  </tbody>\n",
       "</table>\n",
       "</div>"
      ],
      "text/plain": [
       "                school      city\n",
       "0   Nanjing University   Nanjing\n",
       "1   Soochow University   Soochow\n",
       "2     Fudan University  Shanghai\n",
       "3  Zhejiang University  Hangzhou\n",
       "4    Tongji University  Shanghai\n",
       "5  Tsinghua University   Beijing"
      ]
     },
     "execution_count": 29,
     "metadata": {},
     "output_type": "execute_result"
    }
   ],
   "source": [
    "xl.parse(\"Sheet2\")"
   ]
  },
  {
   "cell_type": "code",
   "execution_count": 16,
   "metadata": {},
   "outputs": [
    {
     "data": {
      "text/plain": [
       "'{\"code\":200,\"message\":\"成功!\",\"result\":{\"author\":\"佚名\",\"origin\":\"蓼莪\",\"category\":\"古诗文-人物-父亲\",\"content\":\"父兮生我，母兮鞠我。\"}}'"
      ]
     },
     "execution_count": 16,
     "metadata": {},
     "output_type": "execute_result"
    }
   ],
   "source": [
    "import requests\n",
    "wb = requests.get('http://api.apiopen.top/singlePoetry')\n",
    "wb.text"
   ]
  },
  {
   "cell_type": "code",
   "execution_count": 15,
   "metadata": {},
   "outputs": [
    {
     "data": {
      "text/plain": [
       "'{\"code\":200,\"message\":\"成功!\",\"result\":{\"author\":\"江淹\",\"origin\":\"别赋\",\"category\":\"古诗文-抒情-离别\",\"content\":\"黯然销魂者，唯别而已矣！\"}}'"
      ]
     },
     "execution_count": 15,
     "metadata": {},
     "output_type": "execute_result"
    }
   ],
   "source": [
    "wb.text"
   ]
  },
  {
   "cell_type": "code",
   "execution_count": 12,
   "metadata": {},
   "outputs": [
    {
     "data": {
      "text/plain": [
       "401"
      ]
     },
     "execution_count": 12,
     "metadata": {},
     "output_type": "execute_result"
    }
   ],
   "source": [
    "wb.status_code"
   ]
  },
  {
   "cell_type": "code",
   "execution_count": null,
   "metadata": {},
   "outputs": [],
   "source": []
  }
 ],
 "metadata": {
  "kernelspec": {
   "display_name": "Python 3",
   "language": "python",
   "name": "python3"
  },
  "language_info": {
   "codemirror_mode": {
    "name": "ipython",
    "version": 3
   },
   "file_extension": ".py",
   "mimetype": "text/x-python",
   "name": "python",
   "nbconvert_exporter": "python",
   "pygments_lexer": "ipython3",
   "version": "3.7.1"
  }
 },
 "nbformat": 4,
 "nbformat_minor": 2
}
