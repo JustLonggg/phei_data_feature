{
 "cells": [
  {
   "cell_type": "code",
   "execution_count": 1,
   "metadata": {},
   "outputs": [],
   "source": [
    "import numpy as np"
   ]
  },
  {
   "cell_type": "code",
   "execution_count": 2,
   "metadata": {},
   "outputs": [
    {
     "data": {
      "text/plain": [
       "dtype('int64')"
      ]
     },
     "execution_count": 2,
     "metadata": {},
     "output_type": "execute_result"
    }
   ],
   "source": [
    "a = np.array([1, 2, 3, 4])\n",
    "a.dtype"
   ]
  },
  {
   "cell_type": "code",
   "execution_count": 3,
   "metadata": {},
   "outputs": [],
   "source": [
    "np.array?"
   ]
  },
  {
   "cell_type": "code",
   "execution_count": 4,
   "metadata": {},
   "outputs": [],
   "source": [
    "a.dtype?"
   ]
  },
  {
   "cell_type": "code",
   "execution_count": 9,
   "metadata": {},
   "outputs": [
    {
     "data": {
      "text/plain": [
       "array([1., 2., 3., 4.])"
      ]
     },
     "execution_count": 9,
     "metadata": {},
     "output_type": "execute_result"
    }
   ],
   "source": [
    "a.astype(np.float)"
   ]
  },
  {
   "cell_type": "code",
   "execution_count": 12,
   "metadata": {},
   "outputs": [
    {
     "data": {
      "text/plain": [
       "array([[100, 101, 102],\n",
       "       [201, 202, 203],\n",
       "       [301, 302, 303]])"
      ]
     },
     "execution_count": 12,
     "metadata": {},
     "output_type": "execute_result"
    }
   ],
   "source": [
    "b = np.array([[100, 101, 102],[201, 202, 203], [301, 302, 303]])\n",
    "b"
   ]
  },
  {
   "cell_type": "code",
   "execution_count": 13,
   "metadata": {},
   "outputs": [
    {
     "data": {
      "text/plain": [
       "array([100, 101, 102])"
      ]
     },
     "execution_count": 13,
     "metadata": {},
     "output_type": "execute_result"
    }
   ],
   "source": [
    "b[0]"
   ]
  },
  {
   "cell_type": "code",
   "execution_count": 14,
   "metadata": {},
   "outputs": [
    {
     "data": {
      "text/plain": [
       "10"
      ]
     },
     "execution_count": 14,
     "metadata": {},
     "output_type": "execute_result"
    }
   ],
   "source": [
    "lst = [10, 20, 30]\n",
    "lst[0]"
   ]
  },
  {
   "cell_type": "code",
   "execution_count": 15,
   "metadata": {},
   "outputs": [
    {
     "ename": "IndexError",
     "evalue": "index 5 is out of bounds for axis 0 with size 3",
     "output_type": "error",
     "traceback": [
      "\u001b[0;31m---------------------------------------------------------------------------\u001b[0m",
      "\u001b[0;31mIndexError\u001b[0m                                Traceback (most recent call last)",
      "\u001b[0;32m<ipython-input-15-c133823c3717>\u001b[0m in \u001b[0;36m<module>\u001b[0;34m\u001b[0m\n\u001b[0;32m----> 1\u001b[0;31m \u001b[0mb\u001b[0m\u001b[0;34m[\u001b[0m\u001b[0;36m5\u001b[0m\u001b[0;34m]\u001b[0m\u001b[0;34m\u001b[0m\u001b[0;34m\u001b[0m\u001b[0m\n\u001b[0m",
      "\u001b[0;31mIndexError\u001b[0m: index 5 is out of bounds for axis 0 with size 3"
     ]
    }
   ],
   "source": [
    "b[5]"
   ]
  },
  {
   "cell_type": "markdown",
   "metadata": {},
   "source": [
    "|姓名|分数|\n",
    "|---|---|\n",
    "|张三|100|\n",
    "|李四|99 |\n",
    "|王五|98 |"
   ]
  },
  {
   "cell_type": "code",
   "execution_count": 16,
   "metadata": {},
   "outputs": [],
   "source": [
    "import pandas as pd\n",
    "s = pd.Series([100, 99, 98], index=[\"zhang\", \"wang\", \"li\"])"
   ]
  },
  {
   "cell_type": "code",
   "execution_count": 17,
   "metadata": {},
   "outputs": [
    {
     "data": {
      "text/plain": [
       "zhang    100\n",
       "wang      99\n",
       "li        98\n",
       "dtype: int64"
      ]
     },
     "execution_count": 17,
     "metadata": {},
     "output_type": "execute_result"
    }
   ],
   "source": [
    "s"
   ]
  },
  {
   "cell_type": "code",
   "execution_count": 18,
   "metadata": {},
   "outputs": [
    {
     "data": {
      "text/plain": [
       "100"
      ]
     },
     "execution_count": 18,
     "metadata": {},
     "output_type": "execute_result"
    }
   ],
   "source": [
    "s['zhang']"
   ]
  },
  {
   "cell_type": "code",
   "execution_count": 19,
   "metadata": {},
   "outputs": [
    {
     "data": {
      "text/plain": [
       "100"
      ]
     },
     "execution_count": 19,
     "metadata": {},
     "output_type": "execute_result"
    }
   ],
   "source": [
    "s[0]"
   ]
  },
  {
   "cell_type": "code",
   "execution_count": 20,
   "metadata": {},
   "outputs": [],
   "source": [
    "pd.DataFrame?"
   ]
  },
  {
   "cell_type": "code",
   "execution_count": 22,
   "metadata": {},
   "outputs": [
    {
     "data": {
      "text/html": [
       "<div>\n",
       "<style scoped>\n",
       "    .dataframe tbody tr th:only-of-type {\n",
       "        vertical-align: middle;\n",
       "    }\n",
       "\n",
       "    .dataframe tbody tr th {\n",
       "        vertical-align: top;\n",
       "    }\n",
       "\n",
       "    .dataframe thead th {\n",
       "        text-align: right;\n",
       "    }\n",
       "</style>\n",
       "<table border=\"1\" class=\"dataframe\">\n",
       "  <thead>\n",
       "    <tr style=\"text-align: right;\">\n",
       "      <th></th>\n",
       "      <th>first</th>\n",
       "      <th>second</th>\n",
       "      <th>three</th>\n",
       "    </tr>\n",
       "  </thead>\n",
       "  <tbody>\n",
       "    <tr>\n",
       "      <th>one</th>\n",
       "      <td>100</td>\n",
       "      <td>101</td>\n",
       "      <td>102</td>\n",
       "    </tr>\n",
       "    <tr>\n",
       "      <th>two</th>\n",
       "      <td>201</td>\n",
       "      <td>202</td>\n",
       "      <td>203</td>\n",
       "    </tr>\n",
       "    <tr>\n",
       "      <th>three</th>\n",
       "      <td>301</td>\n",
       "      <td>302</td>\n",
       "      <td>303</td>\n",
       "    </tr>\n",
       "  </tbody>\n",
       "</table>\n",
       "</div>"
      ],
      "text/plain": [
       "       first  second  three\n",
       "one      100     101    102\n",
       "two      201     202    203\n",
       "three    301     302    303"
      ]
     },
     "execution_count": 22,
     "metadata": {},
     "output_type": "execute_result"
    }
   ],
   "source": [
    "df = pd.DataFrame(b, columns=['first', 'second', 'three'], index=['one', 'two', 'three'])\n",
    "df"
   ]
  },
  {
   "cell_type": "code",
   "execution_count": 24,
   "metadata": {},
   "outputs": [
    {
     "data": {
      "text/html": [
       "<div>\n",
       "<style scoped>\n",
       "    .dataframe tbody tr th:only-of-type {\n",
       "        vertical-align: middle;\n",
       "    }\n",
       "\n",
       "    .dataframe tbody tr th {\n",
       "        vertical-align: top;\n",
       "    }\n",
       "\n",
       "    .dataframe thead th {\n",
       "        text-align: right;\n",
       "    }\n",
       "</style>\n",
       "<table border=\"1\" class=\"dataframe\">\n",
       "  <thead>\n",
       "    <tr style=\"text-align: right;\">\n",
       "      <th></th>\n",
       "      <th>name</th>\n",
       "      <th>area</th>\n",
       "      <th>population</th>\n",
       "      <th>longd</th>\n",
       "      <th>latd</th>\n",
       "    </tr>\n",
       "  </thead>\n",
       "  <tbody>\n",
       "    <tr>\n",
       "      <th>0</th>\n",
       "      <td>南京市</td>\n",
       "      <td>6582.31</td>\n",
       "      <td>8004680</td>\n",
       "      <td>118.78</td>\n",
       "      <td>32.04</td>\n",
       "    </tr>\n",
       "    <tr>\n",
       "      <th>1</th>\n",
       "      <td>无锡市</td>\n",
       "      <td>4787.61</td>\n",
       "      <td>6372624</td>\n",
       "      <td>120.29</td>\n",
       "      <td>31.59</td>\n",
       "    </tr>\n",
       "    <tr>\n",
       "      <th>2</th>\n",
       "      <td>徐州市</td>\n",
       "      <td>11764.88</td>\n",
       "      <td>8580500</td>\n",
       "      <td>117.20</td>\n",
       "      <td>34.26</td>\n",
       "    </tr>\n",
       "    <tr>\n",
       "      <th>3</th>\n",
       "      <td>常州市</td>\n",
       "      <td>4384.57</td>\n",
       "      <td>4591972</td>\n",
       "      <td>119.95</td>\n",
       "      <td>31.79</td>\n",
       "    </tr>\n",
       "    <tr>\n",
       "      <th>4</th>\n",
       "      <td>苏州市</td>\n",
       "      <td>8488.42</td>\n",
       "      <td>10465994</td>\n",
       "      <td>120.62</td>\n",
       "      <td>31.32</td>\n",
       "    </tr>\n",
       "    <tr>\n",
       "      <th>5</th>\n",
       "      <td>南通市</td>\n",
       "      <td>8001.00</td>\n",
       "      <td>7282835</td>\n",
       "      <td>120.86</td>\n",
       "      <td>32.01</td>\n",
       "    </tr>\n",
       "    <tr>\n",
       "      <th>6</th>\n",
       "      <td>连云港市</td>\n",
       "      <td>7615.29</td>\n",
       "      <td>4393914</td>\n",
       "      <td>119.16</td>\n",
       "      <td>34.59</td>\n",
       "    </tr>\n",
       "    <tr>\n",
       "      <th>7</th>\n",
       "      <td>淮安市</td>\n",
       "      <td>9949.97</td>\n",
       "      <td>4799889</td>\n",
       "      <td>119.15</td>\n",
       "      <td>33.50</td>\n",
       "    </tr>\n",
       "    <tr>\n",
       "      <th>8</th>\n",
       "      <td>盐城市</td>\n",
       "      <td>16972.42</td>\n",
       "      <td>7260240</td>\n",
       "      <td>120.13</td>\n",
       "      <td>33.38</td>\n",
       "    </tr>\n",
       "    <tr>\n",
       "      <th>9</th>\n",
       "      <td>扬州市</td>\n",
       "      <td>6591.21</td>\n",
       "      <td>4459760</td>\n",
       "      <td>119.42</td>\n",
       "      <td>32.39</td>\n",
       "    </tr>\n",
       "    <tr>\n",
       "      <th>10</th>\n",
       "      <td>镇江市</td>\n",
       "      <td>3840.32</td>\n",
       "      <td>3113384</td>\n",
       "      <td>119.44</td>\n",
       "      <td>32.20</td>\n",
       "    </tr>\n",
       "    <tr>\n",
       "      <th>11</th>\n",
       "      <td>泰州市</td>\n",
       "      <td>5787.26</td>\n",
       "      <td>4618558</td>\n",
       "      <td>119.90</td>\n",
       "      <td>32.49</td>\n",
       "    </tr>\n",
       "    <tr>\n",
       "      <th>12</th>\n",
       "      <td>宿迁市</td>\n",
       "      <td>8555.00</td>\n",
       "      <td>4715553</td>\n",
       "      <td>118.30</td>\n",
       "      <td>33.96</td>\n",
       "    </tr>\n",
       "  </tbody>\n",
       "</table>\n",
       "</div>"
      ],
      "text/plain": [
       "    name      area  population   longd   latd\n",
       "0    南京市   6582.31     8004680  118.78  32.04\n",
       "1    无锡市   4787.61     6372624  120.29  31.59\n",
       "2    徐州市  11764.88     8580500  117.20  34.26\n",
       "3    常州市   4384.57     4591972  119.95  31.79\n",
       "4    苏州市   8488.42    10465994  120.62  31.32\n",
       "5    南通市   8001.00     7282835  120.86  32.01\n",
       "6   连云港市   7615.29     4393914  119.16  34.59\n",
       "7    淮安市   9949.97     4799889  119.15  33.50\n",
       "8    盐城市  16972.42     7260240  120.13  33.38\n",
       "9    扬州市   6591.21     4459760  119.42  32.39\n",
       "10   镇江市   3840.32     3113384  119.44  32.20\n",
       "11   泰州市   5787.26     4618558  119.90  32.49\n",
       "12   宿迁市   8555.00     4715553  118.30  33.96"
      ]
     },
     "execution_count": 24,
     "metadata": {},
     "output_type": "execute_result"
    }
   ],
   "source": [
    "# source: https://github.com/qiwsir/DataSet/tree/master/jiangsu/city_population.csv\n",
    "pd.read_csv(\"/Users/qiwsir/Documents/Codes/DataSet/jiangsu/city_population.csv\")"
   ]
  },
  {
   "cell_type": "code",
   "execution_count": 26,
   "metadata": {},
   "outputs": [
    {
     "data": {
      "text/html": [
       "<div>\n",
       "<style scoped>\n",
       "    .dataframe tbody tr th:only-of-type {\n",
       "        vertical-align: middle;\n",
       "    }\n",
       "\n",
       "    .dataframe tbody tr th {\n",
       "        vertical-align: top;\n",
       "    }\n",
       "\n",
       "    .dataframe thead th {\n",
       "        text-align: right;\n",
       "    }\n",
       "</style>\n",
       "<table border=\"1\" class=\"dataframe\">\n",
       "  <thead>\n",
       "    <tr style=\"text-align: right;\">\n",
       "      <th></th>\n",
       "      <th>area</th>\n",
       "      <th>population</th>\n",
       "      <th>longd</th>\n",
       "      <th>latd</th>\n",
       "    </tr>\n",
       "    <tr>\n",
       "      <th>name</th>\n",
       "      <th></th>\n",
       "      <th></th>\n",
       "      <th></th>\n",
       "      <th></th>\n",
       "    </tr>\n",
       "  </thead>\n",
       "  <tbody>\n",
       "    <tr>\n",
       "      <th>南京市</th>\n",
       "      <td>6582.31</td>\n",
       "      <td>8004680</td>\n",
       "      <td>118.78</td>\n",
       "      <td>32.04</td>\n",
       "    </tr>\n",
       "    <tr>\n",
       "      <th>无锡市</th>\n",
       "      <td>4787.61</td>\n",
       "      <td>6372624</td>\n",
       "      <td>120.29</td>\n",
       "      <td>31.59</td>\n",
       "    </tr>\n",
       "    <tr>\n",
       "      <th>徐州市</th>\n",
       "      <td>11764.88</td>\n",
       "      <td>8580500</td>\n",
       "      <td>117.20</td>\n",
       "      <td>34.26</td>\n",
       "    </tr>\n",
       "    <tr>\n",
       "      <th>常州市</th>\n",
       "      <td>4384.57</td>\n",
       "      <td>4591972</td>\n",
       "      <td>119.95</td>\n",
       "      <td>31.79</td>\n",
       "    </tr>\n",
       "    <tr>\n",
       "      <th>苏州市</th>\n",
       "      <td>8488.42</td>\n",
       "      <td>10465994</td>\n",
       "      <td>120.62</td>\n",
       "      <td>31.32</td>\n",
       "    </tr>\n",
       "    <tr>\n",
       "      <th>南通市</th>\n",
       "      <td>8001.00</td>\n",
       "      <td>7282835</td>\n",
       "      <td>120.86</td>\n",
       "      <td>32.01</td>\n",
       "    </tr>\n",
       "    <tr>\n",
       "      <th>连云港市</th>\n",
       "      <td>7615.29</td>\n",
       "      <td>4393914</td>\n",
       "      <td>119.16</td>\n",
       "      <td>34.59</td>\n",
       "    </tr>\n",
       "    <tr>\n",
       "      <th>淮安市</th>\n",
       "      <td>9949.97</td>\n",
       "      <td>4799889</td>\n",
       "      <td>119.15</td>\n",
       "      <td>33.50</td>\n",
       "    </tr>\n",
       "    <tr>\n",
       "      <th>盐城市</th>\n",
       "      <td>16972.42</td>\n",
       "      <td>7260240</td>\n",
       "      <td>120.13</td>\n",
       "      <td>33.38</td>\n",
       "    </tr>\n",
       "    <tr>\n",
       "      <th>扬州市</th>\n",
       "      <td>6591.21</td>\n",
       "      <td>4459760</td>\n",
       "      <td>119.42</td>\n",
       "      <td>32.39</td>\n",
       "    </tr>\n",
       "    <tr>\n",
       "      <th>镇江市</th>\n",
       "      <td>3840.32</td>\n",
       "      <td>3113384</td>\n",
       "      <td>119.44</td>\n",
       "      <td>32.20</td>\n",
       "    </tr>\n",
       "    <tr>\n",
       "      <th>泰州市</th>\n",
       "      <td>5787.26</td>\n",
       "      <td>4618558</td>\n",
       "      <td>119.90</td>\n",
       "      <td>32.49</td>\n",
       "    </tr>\n",
       "    <tr>\n",
       "      <th>宿迁市</th>\n",
       "      <td>8555.00</td>\n",
       "      <td>4715553</td>\n",
       "      <td>118.30</td>\n",
       "      <td>33.96</td>\n",
       "    </tr>\n",
       "  </tbody>\n",
       "</table>\n",
       "</div>"
      ],
      "text/plain": [
       "          area  population   longd   latd\n",
       "name                                     \n",
       "南京市    6582.31     8004680  118.78  32.04\n",
       "无锡市    4787.61     6372624  120.29  31.59\n",
       "徐州市   11764.88     8580500  117.20  34.26\n",
       "常州市    4384.57     4591972  119.95  31.79\n",
       "苏州市    8488.42    10465994  120.62  31.32\n",
       "南通市    8001.00     7282835  120.86  32.01\n",
       "连云港市   7615.29     4393914  119.16  34.59\n",
       "淮安市    9949.97     4799889  119.15  33.50\n",
       "盐城市   16972.42     7260240  120.13  33.38\n",
       "扬州市    6591.21     4459760  119.42  32.39\n",
       "镇江市    3840.32     3113384  119.44  32.20\n",
       "泰州市    5787.26     4618558  119.90  32.49\n",
       "宿迁市    8555.00     4715553  118.30  33.96"
      ]
     },
     "execution_count": 26,
     "metadata": {},
     "output_type": "execute_result"
    }
   ],
   "source": [
    "pd.read_csv(\"/Users/qiwsir/Documents/Codes/DataSet/jiangsu/city_population.csv\", index_col='name')"
   ]
  },
  {
   "cell_type": "code",
   "execution_count": null,
   "metadata": {},
   "outputs": [],
   "source": []
  }
 ],
 "metadata": {
  "kernelspec": {
   "display_name": "Python 3",
   "language": "python",
   "name": "python3"
  },
  "language_info": {
   "codemirror_mode": {
    "name": "ipython",
    "version": 3
   },
   "file_extension": ".py",
   "mimetype": "text/x-python",
   "name": "python",
   "nbconvert_exporter": "python",
   "pygments_lexer": "ipython3",
   "version": "3.7.1"
  }
 },
 "nbformat": 4,
 "nbformat_minor": 2
}
